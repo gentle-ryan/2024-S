{
  "cells": [
    {
      "cell_type": "code",
      "execution_count": 2,
      "metadata": {
        "id": "meATFy_34szl"
      },
      "outputs": [],
      "source": [
        "class Node:\n",
        "  def __init__(self, data):\n",
        "    self.data = data\n",
        "    self.check = False\n",
        "    self.neighbors = list()\n",
        "\n",
        "  def __str__(self):\n",
        "    return self.data\n",
        "\n",
        "  def add_neigbor(self, neighbor):\n",
        "    self.neighbors.append(neighbor)"
      ]
    },
    {
      "cell_type": "code",
      "execution_count": 12,
      "metadata": {
        "id": "nRkPJ3yU4yK7"
      },
      "outputs": [],
      "source": [
        "class Graph:\n",
        "  def __init__(self):\n",
        "    self.nodes = dict()\n",
        "\n",
        "  def __str__(self):\n",
        "    msg = ''\n",
        "    for key in self.nodes:\n",
        "      node = self.nodes[key]\n",
        "      msg += node.data + ': '\n",
        "      for neighbor in node.neighbors:\n",
        "        msg += neighbor.data + ' '\n",
        "      msg += '\\n'\n",
        "    if msg != '':\n",
        "      msg = msg[:len(msg)-1]\n",
        "    return msg\n",
        "\n",
        "  def insert_info(self, data_pair):\n",
        "    data_i = data_pair[0]\n",
        "    data_j = data_pair[1]\n",
        "\n",
        "    node_i = self.get_node(data_i)\n",
        "    node_j = self.get_node(data_j)\n",
        "\n",
        "    node_i.add_neigbor(node_j)\n",
        "\n",
        "  def get_node(self, data):\n",
        "    if data not in self.nodes:\n",
        "      node = Node(data)\n",
        "      self.nodes[data] = node\n",
        "    return self.nodes[data]\n",
        "\n",
        "  def topological_sort(self):\n",
        "    for key in self.nodes:\n",
        "        self.nodes[key].check = False\n",
        "\n",
        "    stack = list()\n",
        "    for key in self.nodes:\n",
        "      node = self.nodes[key]\n",
        "      if node.check == False:\n",
        "        self.drill(node, stack)\n",
        "\n",
        "    while len(stack) > 0:\n",
        "      print(stack.pop(), end=' ')\n",
        "\n",
        "  def drill(self, node, stack):\n",
        "    node.check = True\n",
        "    for neighbor in node.neighbors:\n",
        "      if neighbor.check == False:\n",
        "        self.drill(neighbor, stack)\n",
        "    stack.append(node)\n",
        "    ..."
      ]
    },
    {
      "cell_type": "code",
      "execution_count": 13,
      "metadata": {
        "id": "qmHkMkH26_fg"
      },
      "outputs": [
        {
          "name": "stdout",
          "output_type": "stream",
          "text": [
            "A: B F \n",
            "B: H \n",
            "F: \n",
            "H: \n",
            "D: C E I \n",
            "C: \n",
            "E: I \n",
            "I: C \n",
            "G: A B C \n",
            "J: E \n"
          ]
        }
      ],
      "source": [
        "graph = Graph()\n",
        "data_pairs = [('A', 'B'), ('A', 'F'), ('B', 'H'),\n",
        "              ('D', 'C'), ('D', 'E'), ('D', 'I'),\n",
        "              ('E', 'I'), ('G', 'A'), ('G', 'B'),\n",
        "              ('G', 'C'), ('I', 'C'), ('J', 'E')]\n",
        "for data in data_pairs:\n",
        "  graph.insert_info(data)\n",
        "print(graph)"
      ]
    },
    {
      "cell_type": "code",
      "execution_count": 14,
      "metadata": {
        "id": "ziNLIxjlAc4j"
      },
      "outputs": [
        {
          "name": "stdout",
          "output_type": "stream",
          "text": [
            "J G D E I C A F B H "
          ]
        }
      ],
      "source": [
        "graph.topological_sort()"
      ]
    }
  ],
  "metadata": {
    "colab": {
      "provenance": []
    },
    "kernelspec": {
      "display_name": "Python 3",
      "name": "python3"
    },
    "language_info": {
      "codemirror_mode": {
        "name": "ipython",
        "version": 3
      },
      "file_extension": ".py",
      "mimetype": "text/x-python",
      "name": "python",
      "nbconvert_exporter": "python",
      "pygments_lexer": "ipython3",
      "version": "3.11.6"
    }
  },
  "nbformat": 4,
  "nbformat_minor": 0
}
