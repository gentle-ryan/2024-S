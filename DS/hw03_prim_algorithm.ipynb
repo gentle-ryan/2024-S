{
 "cells": [
  {
   "cell_type": "code",
   "execution_count": 1,
   "metadata": {},
   "outputs": [],
   "source": [
    "class Node:\n",
    "    def __init__(self, data):\n",
    "        self.data = data           \n",
    "        self.edge = list() # To store tbe edge\n",
    " \n",
    "    def __str__(self):\n",
    "        return self.data     \n",
    "\n",
    "    # Adds an edge to the node's edge list with a neighbor and weight\n",
    "    def add_edge(self, neighbor, weight):\n",
    "        self.edge.append((neighbor, weight))  \n"
   ]
  },
  {
   "cell_type": "code",
   "execution_count": 5,
   "metadata": {},
   "outputs": [],
   "source": [
    "  def merge_sort(array, n):\n",
    "    left = list()\n",
    "    right = list()\n",
    "    if n <= 1:\n",
    "      return array\n",
    "    else:\n",
    "      middle = n//2\n",
    "      for i in range(0, middle):\n",
    "        left.append(array[i])\n",
    "      for i in range(middle, n):\n",
    "        right.append(array[i])\n",
    "      left = merge_sort(left, len(left))\n",
    "      right = merge_sort(right, len(right))\n",
    "      return merge(left, right)\n",
    "\n",
    "  def merge(left, right):\n",
    "    result = list()\n",
    "    while len(left) > 0 and len(right) > 0:\n",
    "      if left[0] <= right[0]:\n",
    "        result.append(left[0])\n",
    "        left.pop(0)\n",
    "      else:\n",
    "        result.append(right[0])\n",
    "        right.pop(0)\n",
    "    if len(left) > 0:\n",
    "      result.extend(left)\n",
    "    if len(right) > 0:\n",
    "      result.extend(right)\n",
    "    return result"
   ]
  },
  {
   "cell_type": "code",
   "execution_count": 7,
   "metadata": {},
   "outputs": [],
   "source": [
    "import numpy as np\n",
    "\n",
    "# Except for the Prim function, the Graph class of dijkstra.ipynb in the class was used.\n",
    "class Graph:\n",
    "  def __init__(self):\n",
    "    self.nodes = dict()\n",
    "\n",
    "  def __str__(self):\n",
    "    msg = ''\n",
    "    for key in self.nodes:\n",
    "      node = self.nodes[key]\n",
    "      msg += node.data + ': '\n",
    "      for edge in node.edge:\n",
    "        msg += edge[0].data + '(' + str(edge[1]) + ') '\n",
    "      msg += '\\n'\n",
    "    if msg != '':\n",
    "      msg = msg[:len(msg)-1]\n",
    "    return msg\n",
    "\n",
    "  def insert_info(self, data_tuple):\n",
    "    data_i = data_tuple[0]\n",
    "    data_j = data_tuple[1]\n",
    "    weight = data_tuple[2]\n",
    "\n",
    "    node_i = self.get_node(data_i)\n",
    "    node_j = self.get_node(data_j)\n",
    "\n",
    "    node_i.add_edge(node_j, weight)\n",
    "    node_j.add_edge(node_i, weight)\n",
    "\n",
    "  def get_node(self, data):\n",
    "    if data not in self.nodes:\n",
    "      node = Node(data)\n",
    "      self.nodes[data] = node\n",
    "    return self.nodes[data]\n",
    "    \n",
    "  # Add prim fuction to find minimum spanning tree\n",
    "  def prim(self, start_data):\n",
    "        if start_data not in self.nodes:\n",
    "            raise ValueError(f\"{start_data} in not graph\")\n",
    "\n",
    "        mst = []\n",
    "        visited = set()\n",
    "        temp = [(0, start_data, None)]  # (weight, current_node, previous_node)\n",
    "        total_weights = 0\n",
    "\n",
    "        while len(visited) < len(self.nodes): # Iterat over the size of mst is same to graph\n",
    "            temp = merge_sort(temp, len(temp)) # Sort temp by weight using merge_sort \n",
    "            min_weight, current_data, previous_data = temp.pop(0) # Get minimum edge and \n",
    "            if current_data in visited:  # If the data is already visited, skip it\n",
    "                continue\n",
    "\n",
    "            visited.add(current_data) # Add current_data the visited node set\n",
    "            if previous_data is not None: # If there is a previous node, add the previous data, current data and weight to the MST\n",
    "                mst.append((previous_data, current_data, weight))  \n",
    "                total_weights += min_weight # Update total weight\n",
    "\n",
    "            # Get the current node to check neighbor is visited\n",
    "            current_node = self.nodes[current_data]\n",
    "            for neighbor, weight in current_node.edge: # Iterate over all neighbor of the current node\n",
    "              # If the neighbor is not visited, update the temp to change current data to previous data and neighbor to current data\n",
    "                if neighbor.data not in visited: \n",
    "                    temp.append((weight, neighbor.data, current_node))  \n",
    "                    \n",
    "        # Print previous data\n",
    "        for start, end, weight in mst:\n",
    "          print(f\"{start} - {end}\")\n",
    "        \n",
    "        print(f\"weight : {total_weights}\")\n",
    "      \n"
   ]
  },
  {
   "cell_type": "code",
   "execution_count": 8,
   "metadata": {},
   "outputs": [
    {
     "name": "stdout",
     "output_type": "stream",
     "text": [
      "A: B(4) H(8) \n",
      "B: A(4) C(8) H(11) \n",
      "H: A(8) B(11) G(1) I(7) \n",
      "C: B(8) D(7) F(4) I(2) \n",
      "D: C(7) F(14) E(9) \n",
      "F: C(4) D(14) E(10) G(2) \n",
      "I: C(2) G(6) H(7) \n",
      "E: D(9) F(10) \n",
      "G: F(2) I(6) H(1) \n"
     ]
    }
   ],
   "source": [
    "graph = Graph()\n",
    "data_tuples = [('A', 'B', 4), ('A', 'H', 8),\n",
    "              ('B', 'C', 8), ('B', 'H', 11),\n",
    "              ('C', 'D', 7),('C', 'F', 4), ('C', 'I', 2),\n",
    "              ('D', 'F', 14), ('D', 'E', 9),\n",
    "              ('E', 'F', 10), \n",
    "              ('F', 'G', 2),\n",
    "              ('G', 'I', 6), ('G', 'H', 1),\n",
    "              ('H', 'I', 7)]\n",
    "for data_tuple in data_tuples:\n",
    "  graph.insert_info(data_tuple)\n",
    "print(graph)"
   ]
  },
  {
   "cell_type": "code",
   "execution_count": 10,
   "metadata": {},
   "outputs": [
    {
     "name": "stdout",
     "output_type": "stream",
     "text": [
      "A - B\n",
      "B - C\n",
      "C - I\n",
      "C - F\n",
      "F - G\n",
      "G - H\n",
      "C - D\n",
      "D - E\n",
      "weight : 37\n"
     ]
    }
   ],
   "source": [
    "graph.prim('A')"
   ]
  }
 ],
 "metadata": {
  "kernelspec": {
   "display_name": "Python 3",
   "language": "python",
   "name": "python3"
  },
  "language_info": {
   "codemirror_mode": {
    "name": "ipython",
    "version": 3
   },
   "file_extension": ".py",
   "mimetype": "text/x-python",
   "name": "python",
   "nbconvert_exporter": "python",
   "pygments_lexer": "ipython3",
   "version": "3.11.6"
  }
 },
 "nbformat": 4,
 "nbformat_minor": 2
}
