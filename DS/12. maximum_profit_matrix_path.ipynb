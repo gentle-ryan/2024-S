{
  "cells": [
    {
      "cell_type": "code",
      "execution_count": 7,
      "metadata": {
        "id": "OSmV0HArjq0X"
      },
      "outputs": [
        {
          "name": "stdout",
          "output_type": "stream",
          "text": [
            "68\n"
          ]
        }
      ],
      "source": [
        "def maximum_profit_path(p_matrix, m, n):\n",
        "  s_matrix = list()\n",
        "  for i in range(m):\n",
        "    row = list()\n",
        "    s_matrix.append(row)\n",
        "    for j in range(n):\n",
        "      row.append(None)\n",
        "  \n",
        "  s_matrix[0][0] = p_matrix[0][0]\n",
        "\n",
        "  for i in range(1, n):\n",
        "    s_matrix[0][i] = p_matrix[0][i] + s_matrix[0][i-1]\n",
        "  \n",
        "  for i in range(1, m):\n",
        "    s_matrix[i][0] = p_matrix[i][0] + s_matrix[i-1][0]\n",
        "  \n",
        "  for i in range(1, m):\n",
        "    for j in range(1, n):\n",
        "      s_matrix[i][j] = p_matrix[i][j] + max(s_matrix[i-1][j], s_matrix[i][j-1])\n",
        "\n",
        "  print(s_matrix[m-1][n-1])\n",
        "\n",
        "matrix = [[6, 7, 12, 5],\n",
        "          [5, 3, 11, 18],\n",
        "          [7, 17, 3, 3],\n",
        "          [8, 10, 14, 9]]\n",
        "\n",
        "maximum_profit_path(matrix, len(matrix), len(matrix[0]))"
      ]
    }
  ],
  "metadata": {
    "colab": {
      "provenance": []
    },
    "kernelspec": {
      "display_name": "Python 3",
      "name": "python3"
    },
    "language_info": {
      "codemirror_mode": {
        "name": "ipython",
        "version": 3
      },
      "file_extension": ".py",
      "mimetype": "text/x-python",
      "name": "python",
      "nbconvert_exporter": "python",
      "pygments_lexer": "ipython3",
      "version": "3.11.6"
    }
  },
  "nbformat": 4,
  "nbformat_minor": 0
}
