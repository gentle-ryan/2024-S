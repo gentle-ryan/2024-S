{
  "cells": [
    {
      "cell_type": "code",
      "execution_count": 3,
      "metadata": {
        "id": "fVDvr-R-T9qJ"
      },
      "outputs": [],
      "source": [
        "class Node:\n",
        "  def __init__(self, data):\n",
        "    self.data = data\n",
        "    self.left = None\n",
        "    self.right = None\n",
        "    self.height = 1\n",
        "\n",
        "  def __str__(self):\n",
        "    return str(self.data)"
      ]
    },
    {
      "cell_type": "code",
      "execution_count": 42,
      "metadata": {
        "id": "GX89Vu9kT-m7"
      },
      "outputs": [],
      "source": [
        "class AvlTree():\n",
        "\n",
        "  def __init__(self):\n",
        "    self.root = None\n",
        "\n",
        "  def __str__(self):\n",
        "    level = 0\n",
        "    msg = AvlTree.concatenate_node_info(self.root, level, 'root')\n",
        "    return msg\n",
        "\n",
        "  @staticmethod\n",
        "  def concatenate_node_info(node, level, role):\n",
        "    msg = ''\n",
        "    for i in range(level):\n",
        "      msg += '|    '\n",
        "    msg += '+--- ' + str(node.data) + ' (' + role + ', '\n",
        "    if node.left is None:\n",
        "      msg += '0'\n",
        "    else:\n",
        "      msg += str(node.left.height)\n",
        "    msg += ':'\n",
        "    if node.right is None:\n",
        "      msg += '0'\n",
        "    else:\n",
        "      msg += str(node.right.height)\n",
        "    msg += ')\\n'\n",
        "\n",
        "    if node.left:\n",
        "      msg += AvlTree.concatenate_node_info(node.left, level+1, 'left')\n",
        "    if node.right:\n",
        "      msg += AvlTree.concatenate_node_info(node.right, level+1, 'right')\n",
        "\n",
        "    return msg\n",
        "  \n",
        "# recursive function.\n",
        "  def insert(self, data):\n",
        "    self.root = self.insert_node(self.root, data)\n",
        "\n",
        "\n",
        "  def insert_node(self, parent, data):\n",
        "    # Step I: Do binary search for insertion of new node\n",
        "    if parent is None:\n",
        "      return Node(data)\n",
        "    elif data < parent.data:\n",
        "      parent.left = self.insert_node(parent.left, data)\n",
        "    else:\n",
        "      parent.right = self.insert_node(parent.right, data)\n",
        "\n",
        "    # Step II: Update height of parent node\n",
        "    parent.height = 1 + max(self.get_height(parent.left), self.get_height(parent.right))\n",
        "\n",
        "    # Step III: Get height difference btw left & right subtree\n",
        "    diff = self.get_difference(parent)\n",
        "\n",
        "    # Step IV: Make it balanced\n",
        "    # Case I: LL-case\n",
        "    if diff > 1 and data < parent.left.data:\n",
        "      return self.rotate_right(parent)\n",
        "\n",
        "    # Case II: RR-case\n",
        "    if diff < -1 and data > parent.right.data:\n",
        "      return self.rotate_left(parent)\n",
        "\n",
        "    # Case III: LR-case\n",
        "    if diff > 1 and data > parent.left.data:\n",
        "      parent.left = self.rotate_left(parent.left)\n",
        "      return self.rotate_right(parent)\n",
        "\n",
        "    # Case IV: RL-case\n",
        "    if diff < -1 and data < parent.right.data:\n",
        "      parent.right = self.rotate_right(parent.right)\n",
        "      return self.rotate_left(parent)\n",
        "\n",
        "    return parent\n",
        "\n",
        "  def rotate_left(self, z):\n",
        "    y = z.right\n",
        "    temp = y.left\n",
        "    y.left = z\n",
        "    z.right = temp\n",
        "    \n",
        "    \n",
        "    y.height = 1 + max(self.get_height(y.left), self.get_height(y.right))\n",
        "    z.height = 1 + max(self.get_height(z.left), self.get_height(z.right))\n",
        "\n",
        "    return y\n",
        "\n",
        "  def rotate_right(self, z):\n",
        "    y = z.left\n",
        "    temp = y.right\n",
        "    y.right = z\n",
        "    z.left = temp\n",
        "    \n",
        "    \n",
        "    y.height = 1 + max(self.get_height(y.left), self.get_height(y.right))\n",
        "    z.height = 1 + max(self.get_height(z.left), self.get_height(z.right))\n",
        "\n",
        "    return y\n",
        "\n",
        "  def get_height(self, node):\n",
        "    if node is None:\n",
        "      return 0\n",
        "\n",
        "    return node.height\n",
        "\n",
        "  def get_difference(self, node):\n",
        "    if node is None:\n",
        "      return 0\n",
        "\n",
        "    return self.get_height(node.left) - self.get_height(node.right)"
      ]
    },
    {
      "cell_type": "code",
      "execution_count": 43,
      "metadata": {
        "id": "chqP4ynHUOsY"
      },
      "outputs": [
        {
          "name": "stdout",
          "output_type": "stream",
          "text": [
            "+--- 30 (root, 2:2)\n",
            "|    +--- 20 (left, 1:1)\n",
            "|    |    +--- 10 (left, 0:0)\n",
            "|    |    +--- 25 (right, 0:0)\n",
            "|    +--- 40 (right, 0:1)\n",
            "|    |    +--- 50 (right, 0:0)\n",
            "\n"
          ]
        }
      ],
      "source": [
        "data_list = [10, 20, 30, 40, 50, 25]\n",
        "tree = AvlTree()\n",
        "for data in data_list:\n",
        "  tree.insert(data)\n",
        "\n",
        "print(tree)"
      ]
    },
    {
      "cell_type": "code",
      "execution_count": 44,
      "metadata": {},
      "outputs": [
        {
          "name": "stdout",
          "output_type": "stream",
          "text": [
            "+--- 54 (root, 5:6)\n",
            "|    +--- 40 (left, 4:1)\n",
            "|    |    +--- 25 (left, 3:1)\n",
            "|    |    |    +--- 15 (left, 2:1)\n",
            "|    |    |    |    +--- 8 (left, 1:1)\n",
            "|    |    |    |    |    +--- 5 (left, 0:0)\n",
            "|    |    |    |    |    +--- 10 (right, 0:0)\n",
            "|    |    |    |    +--- 20 (right, 0:0)\n",
            "|    |    |    +--- 30 (right, 0:0)\n",
            "|    |    +--- 50 (right, 0:0)\n",
            "|    +--- 86 (right, 2:1)\n",
            "|    |    +--- 69 (left, 1:1)\n",
            "|    |    |    +--- 66 (left, 0:0)\n",
            "|    |    |    +--- 83 (right, 0:0)\n",
            "|    |    +--- 90 (right, 0:0)\n",
            "\n"
          ]
        }
      ],
      "source": [
        "data_list = [5, 8, 10, 15, 20, 25, 30 ,40 ,50, 54, 66, 69, 83, 86, 90]\n",
        "tree = AvlTree()\n",
        "for data in data_list:\n",
        "  tree.insert(data)\n",
        "\n",
        "print(tree)"
      ]
    }
  ],
  "metadata": {
    "colab": {
      "provenance": []
    },
    "kernelspec": {
      "display_name": "Python 3",
      "name": "python3"
    },
    "language_info": {
      "codemirror_mode": {
        "name": "ipython",
        "version": 3
      },
      "file_extension": ".py",
      "mimetype": "text/x-python",
      "name": "python",
      "nbconvert_exporter": "python",
      "pygments_lexer": "ipython3",
      "version": "3.11.6"
    }
  },
  "nbformat": 4,
  "nbformat_minor": 0
}
