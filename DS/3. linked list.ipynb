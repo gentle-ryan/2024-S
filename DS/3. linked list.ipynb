{
  "cells": [
    {
      "cell_type": "code",
      "execution_count": 1,
      "metadata": {
        "id": "zhIxoTZZCn6E"
      },
      "outputs": [],
      "source": [
        "class Node:\n",
        "  def __init__(self, data):\n",
        "    self.data = data\n",
        "    self.next = None\n",
        "\n",
        "  def __str__(self):\n",
        "    return 'Data: ' + str(self.data)"
      ]
    },
    {
      "cell_type": "code",
      "execution_count": 2,
      "metadata": {
        "id": "VKT0V8DZCq0e"
      },
      "outputs": [],
      "source": [
        "class LinkedList:\n",
        "  def __init__(self):\n",
        "    self.head = None\n",
        "\n",
        "  def __str__(self):\n",
        "    msg = ''\n",
        "    current_node = self.head\n",
        "    while current_node is not None:\n",
        "      msg += str(current_node.data)\n",
        "      if current_node.next is not None:\n",
        "        msg += ' -> '\n",
        "      current_node = current_node.next\n",
        "    if len(msg) == 0:\n",
        "      msg = 'Empty linked list'\n",
        "    return msg\n",
        "\n",
        "  def insert(self, data):\n",
        "    new_node = Node(data)\n",
        "    if self.head is None:\n",
        "      self.head = new_node\n",
        "    else:\n",
        "      last_node = self.head\n",
        "      while last_node.next is not None:\n",
        "        last_node = last_node.next\n",
        "      last_node.next = new_node\n",
        "\n",
        "  def search(self, target):\n",
        "    result = None\n",
        "    current_node = self.head\n",
        "    while current_node is not None:\n",
        "      if current_node.data == target:\n",
        "        result = current_node\n",
        "        break\n",
        "      current_node = current_node.next\n",
        "    return result\n",
        "\n",
        "  def delete(self, target):\n",
        "    prev_node = None\n",
        "    current_node = self.head\n",
        "    while current_node is not None:\n",
        "      if current_node.data == target:\n",
        "        if current_node == self.head:\n",
        "          self.head = current_node.next\n",
        "        else:\n",
        "          prev_node.next = current_node.next\n",
        "        break\n",
        "      prev_node = current_node\n",
        "      current_node = current_node.next\n",
        "\n",
        "  def delete_all(self, target):\n",
        "    prev_node = None\n",
        "    current_node = self.head\n",
        "    while current_node is not None:\n",
        "      is_survival = True\n",
        "      if current_node.data == target:\n",
        "        is_survival = False\n",
        "        if current_node == self.head:\n",
        "          self.head = current_node.next\n",
        "        else:\n",
        "          prev_node.next = current_node.next\n",
        "      if is_survival:\n",
        "        prev_node = current_node\n",
        "      current_node = current_node.next"
      ]
    },
    {
      "cell_type": "code",
      "execution_count": 3,
      "metadata": {
        "id": "KuOeIUmnDbEK"
      },
      "outputs": [
        {
          "name": "stdout",
          "output_type": "stream",
          "text": [
            "12 -> 99 -> 37 -> 24 -> 56 -> 12 -> 88 -> 12 -> 12\n",
            "--------------------------------------------------\n",
            "Data: 24\n",
            "None\n",
            "--------------------------------------------------\n",
            "99 -> 37 -> 24 -> 56 -> 88\n",
            "--------------------------------------------------\n",
            "37 -> 24 -> 56 -> 88\n",
            "37 -> 56 -> 88\n",
            "37 -> 56\n",
            "37 -> 56\n"
          ]
        }
      ],
      "source": [
        "# create an instance from class LinkedList\n",
        "linked_list = LinkedList()\n",
        "\n",
        "# insert\n",
        "data_list = [12, 99, 37, 24, 56, 12, 88, 12, 12]\n",
        "for data in data_list:\n",
        "  linked_list.insert(data)\n",
        "print(linked_list)\n",
        "print('--------------------------------------------------')\n",
        "\n",
        "# search\n",
        "result = linked_list.search(24)\n",
        "print(result)\n",
        "print(linked_list.search(100)) # non-existing target\n",
        "print('--------------------------------------------------')\n",
        "\n",
        "# delete all nodes matching the target\n",
        "linked_list.delete_all(12)\n",
        "print(linked_list)\n",
        "print('--------------------------------------------------')\n",
        "\n",
        "# delete a single node\n",
        "linked_list.delete(99) # head node\n",
        "print(linked_list)\n",
        "linked_list.delete(24) # node in the middle\n",
        "print(linked_list)\n",
        "linked_list.delete(88) # tail node\n",
        "print(linked_list)\n",
        "linked_list.delete(100) # non-existing node\n",
        "print(linked_list)"
      ]
    },
    {
      "cell_type": "code",
      "execution_count": 4,
      "metadata": {},
      "outputs": [],
      "source": [
        "class DoubleNode(Node):\n",
        "    def __init__(self, data):\n",
        "        super().__init__(data)\n",
        "        self.prev = Node"
      ]
    },
    {
      "cell_type": "code",
      "execution_count": 5,
      "metadata": {},
      "outputs": [
        {
          "name": "stdout",
          "output_type": "stream",
          "text": [
            "Data: 13\n"
          ]
        }
      ],
      "source": [
        "node = DoubleNode(13)\n",
        "print(node)"
      ]
    },
    {
      "cell_type": "code",
      "execution_count": 14,
      "metadata": {},
      "outputs": [],
      "source": [
        "class DoubleLinkedList(LinkedList):\n",
        "    def __init__(self):\n",
        "        super().__init__()\n",
        "    \n",
        "    def insert(self, data):\n",
        "        new_node = DoubleNode(data)\n",
        "        if self.head is None:\n",
        "           self.head = new_node\n",
        "        else:\n",
        "            last_node = self.head\n",
        "            while last_node.next is not None:\n",
        "              last_node = last_node.next\n",
        "            last_node.next = new_node\n",
        "            new_node.prev = last_node\n",
        "\n",
        "    def delete(self, target):\n",
        "        current_node = self.head\n",
        "        while current_node is not None:\n",
        "            if current_node.data == target:\n",
        "                if current_node == self.head:\n",
        "                    self.head = current_node.next\n",
        "                    if current_node.next is not None:\n",
        "                        current_node.next.prev = None\n",
        "                else:\n",
        "                    current_node.prev.next = current_node.next\n",
        "                    if current_node.next is not None:\n",
        "                         current_node.next.prev = current_node.prev\n",
        "                break\n",
        "            current_node = current_node.next\n",
        "            \n",
        "    def __str__(self):\n",
        "        msg = ''\n",
        "        current_node = self.head\n",
        "        while current_node is not None:\n",
        "            msg += str(current_node.data)\n",
        "            if current_node.next is not None:\n",
        "                msg += ' <-> '\n",
        "            current_node = current_node.next\n",
        "        if len(msg) == 0:\n",
        "            msg = 'Empty linked list'\n",
        "        return msg\n",
        "    \n",
        "    def get_neighbors(self, target, scope = 1):\n",
        "        result = []\n",
        "        current_node = self.head\n",
        "        while current_node is not None:\n",
        "            if current_node.data == target:\n",
        "                count = 0\n",
        "                prev_node = current_node.prev\n",
        "                while count < scope and prev_node is not None:\n",
        "                    result.append(prev_node)\n",
        "                    count += 1\n",
        "                count = 0\n",
        "                next_node = current_node.next\n",
        "                while count < scope and next_node is not None:\n",
        "                    result.append(next_node)\n",
        "                    count += 1\n",
        "            current_node = current_node.next\n",
        "        return result\n",
        "\n"
      ]
    },
    {
      "cell_type": "code",
      "execution_count": 15,
      "metadata": {},
      "outputs": [
        {
          "name": "stdout",
          "output_type": "stream",
          "text": [
            "12 <-> 99 <-> 37 <-> 24 <-> 56\n",
            "Data: 24\n",
            "None\n",
            "99 <-> 37 <-> 24 <-> 56\n",
            "99 <-> 24 <-> 56\n",
            "99 <-> 24\n",
            "99 <-> 24\n"
          ]
        }
      ],
      "source": [
        "double_linked_list = DoubleLinkedList()\n",
        "\n",
        "data_list = [12, 99, 37, 24, 56]\n",
        "for data in data_list:\n",
        "    double_linked_list.insert(data)\n",
        "print(double_linked_list)\n",
        "\n",
        "print(double_linked_list.search(24))\n",
        "print(double_linked_list.search(100))\n",
        "\n",
        "double_linked_list.delete(12)\n",
        "print(double_linked_list)\n",
        "double_linked_list.delete(37)\n",
        "print(double_linked_list)\n",
        "double_linked_list.delete(56)\n",
        "print(double_linked_list)\n",
        "double_linked_list.delete(100)\n",
        "print(double_linked_list)"
      ]
    },
    {
      "cell_type": "code",
      "execution_count": 16,
      "metadata": {},
      "outputs": [
        {
          "name": "stdout",
          "output_type": "stream",
          "text": [
            "[<__main__.DoubleNode object at 0x0000022F816BE650>, <__main__.DoubleNode object at 0x0000022F816BE650>]\n"
          ]
        }
      ],
      "source": [
        "print(double_linked_list.get_neighbors(24, 2))\n",
        "# node의 값이 아니라 node의 주소를 출력함"
      ]
    }
  ],
  "metadata": {
    "colab": {
      "provenance": []
    },
    "kernelspec": {
      "display_name": "Python 3",
      "name": "python3"
    },
    "language_info": {
      "codemirror_mode": {
        "name": "ipython",
        "version": 3
      },
      "file_extension": ".py",
      "mimetype": "text/x-python",
      "name": "python",
      "nbconvert_exporter": "python",
      "pygments_lexer": "ipython3",
      "version": "3.11.6"
    }
  },
  "nbformat": 4,
  "nbformat_minor": 0
}
