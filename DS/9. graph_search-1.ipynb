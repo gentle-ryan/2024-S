{
  "cells": [
    {
      "cell_type": "code",
      "execution_count": 1,
      "metadata": {
        "id": "5TP_S1wpRExr"
      },
      "outputs": [],
      "source": [
        "class Node:\n",
        "  def __init__(self, data):\n",
        "    self.data = data\n",
        "    self.check = False\n",
        "    self.neighbors = list()\n",
        "\n",
        "  def __str__(self):\n",
        "    return self.data\n",
        "\n",
        "  def add_neigbor(self, neighbor):\n",
        "    self.neighbors.append(neighbor)"
      ]
    },
    {
      "cell_type": "code",
      "execution_count": 2,
      "metadata": {
        "id": "otUNBae2UPzD"
      },
      "outputs": [],
      "source": [
        "class Queue:\n",
        "  def __init__(self):\n",
        "    self.items = list()\n",
        "\n",
        "  def __str__(self):\n",
        "    return self.items\n",
        "\n",
        "  def enqueue(self, new_node):\n",
        "    self.items.append(new_node)\n",
        "\n",
        "  def dequeue(self):\n",
        "    return self.items.pop(0)\n",
        "\n",
        "  def get_size(self):\n",
        "    return len(self.items)"
      ]
    },
    {
      "cell_type": "code",
      "execution_count": 13,
      "metadata": {
        "id": "ozZMu4IfVEI6"
      },
      "outputs": [],
      "source": [
        "class Graph:\n",
        "  def __init__(self):\n",
        "    self.nodes = dict()\n",
        "\n",
        "  def __str__(self):\n",
        "    msg = ''\n",
        "    for key in self.nodes:\n",
        "      node = self.nodes[key]\n",
        "      msg += node.data + ': '\n",
        "      for neighbor in node.neighbors:\n",
        "        msg += neighbor.data + ' '\n",
        "      msg += '\\n'\n",
        "    if msg != '':\n",
        "      msg = msg[:len(msg)-1]\n",
        "    return msg\n",
        "\n",
        "  def insert_info(self, data_pair):\n",
        "    data_i = data_pair[0]\n",
        "    data_j = data_pair[1]\n",
        "\n",
        "    node_i = self.get_node(data_i)\n",
        "    node_j = self.get_node(data_j)\n",
        "\n",
        "    node_i.add_neigbor(node_j)\n",
        "    node_j.add_neigbor(node_i)\n",
        "\n",
        "  def get_node(self, data):\n",
        "    if data not in self.nodes:\n",
        "      node = Node(data)\n",
        "      self.nodes[data] = node\n",
        "    return self.nodes[data]\n",
        "\n",
        "  def bfs(self, start_data):\n",
        "    if start_data not in self.nodes: # hash index가 없을 때\n",
        "      print(f'there is no such a node with  {start_data}', end='')\n",
        "    else:\n",
        "      start_node = self.nodes[start_data]\n",
        "      for key in self.nodes: \n",
        "        self.nodes[key].check = False\n",
        "      queue = Queue()\n",
        "      start_node.check = True\n",
        "      queue.enqueue(start_node)\n",
        "      while queue.get_size() > 0:\n",
        "       curr_node =  queue.dequeue()\n",
        "       print (curr_node.data, end = ' ')\n",
        "       for neighbor in curr_node.neighbors:\n",
        "         if neighbor.check == False:\n",
        "           neighbor.check = True\n",
        "           queue.enqueue(neighbor)\n",
        "\n",
        "  def dfs(self, start_data):\n",
        "    if start_data not in self.nodes:\n",
        "      print(f'there is no such a node with {start_data}', end='')\n",
        "    else:\n",
        "      start_node = self.nodes[start_data]\n",
        "      for key in self.nodes:\n",
        "        self.nodes[key].check = False\n",
        "      self.drill(start_node)\n",
        "\n",
        "  def drill(self, node):\n",
        "    node.check = True\n",
        "    print(node.data)\n",
        "    for neighbor in node.neighbors:\n",
        "      if neighbor.check == False:\n",
        "        self.drill(neighbor)\n",
        "    ..."
      ]
    },
    {
      "cell_type": "code",
      "execution_count": 4,
      "metadata": {
        "id": "ufx09PaNRJqV"
      },
      "outputs": [
        {
          "name": "stdout",
          "output_type": "stream",
          "text": [
            "A: B I \n",
            "B: A \n",
            "I: A C G \n",
            "C: I D E F \n",
            "G: I F H \n",
            "D: C \n",
            "E: C H \n",
            "F: C G \n",
            "H: G E \n"
          ]
        }
      ],
      "source": [
        "graph = Graph()\n",
        "data_pairs = [('A', 'B'), ('A', 'I'), ('I', 'C'), ('I', 'G'),\n",
        "              ('C', 'D'), ('C', 'E'), ('C', 'F'),\n",
        "              ('G', 'F'), ('G', 'H'), ('E', 'H')]\n",
        "for data_pair in data_pairs:\n",
        "  graph.insert_info(data_pair)\n",
        "print(graph)"
      ]
    },
    {
      "cell_type": "code",
      "execution_count": 14,
      "metadata": {
        "id": "L95RHQhRe0gU"
      },
      "outputs": [
        {
          "name": "stdout",
          "output_type": "stream",
          "text": [
            "Start with X: there is no such a node with  X\n",
            "Start with A: \n",
            "Start with C: \n",
            "Start with E: "
          ]
        }
      ],
      "source": [
        "print('Start with X: ', end='')\n",
        "graph.bfs('X')\n",
        "\n",
        "print('\\nStart with A: ', end='')\n",
        "graph.bfs('A')\n",
        "\n",
        "print('\\nStart with C: ', end='')\n",
        "graph.bfs('C')\n",
        "\n",
        "print('\\nStart with E: ', end='')\n",
        "graph.bfs('E')"
      ]
    },
    {
      "cell_type": "code",
      "execution_count": 15,
      "metadata": {
        "id": "xy0Wf03JRC64"
      },
      "outputs": [
        {
          "name": "stdout",
          "output_type": "stream",
          "text": [
            "Start with X: there is no such a node with X\n",
            "Start with A: "
          ]
        }
      ],
      "source": [
        "print('Start with X: ', end='')\n",
        "graph.dfs('X')\n",
        "\n",
        "print('\\nStart with A: ', end='')\n",
        "graph.dfs('A')"
      ]
    }
  ],
  "metadata": {
    "colab": {
      "provenance": []
    },
    "kernelspec": {
      "display_name": "Python 3",
      "name": "python3"
    },
    "language_info": {
      "codemirror_mode": {
        "name": "ipython",
        "version": 3
      },
      "file_extension": ".py",
      "mimetype": "text/x-python",
      "name": "python",
      "nbconvert_exporter": "python",
      "pygments_lexer": "ipython3",
      "version": "3.11.6"
    }
  },
  "nbformat": 4,
  "nbformat_minor": 0
}
