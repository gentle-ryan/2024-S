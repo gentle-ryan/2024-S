{
  "cells": [
    {
      "cell_type": "code",
      "execution_count": 2,
      "metadata": {
        "id": "HWgi8CYSK9VI"
      },
      "outputs": [],
      "source": [
        "def Floyd_Warshall(matrix, n):\n",
        "  for k in range(n):\n",
        "    for i in range(n):\n",
        "      for j in range(n):\n",
        "        if i != k and j != k and i != j:\n",
        "          new_dist = matrix[i][k] + matrix[k][j]\n",
        "          if new_dist < matrix[i][j] :\n",
        "            matrix[i][j] = new_dist\n",
        "\n",
        "  return matrix"
      ]
    },
    {
      "cell_type": "code",
      "execution_count": 3,
      "metadata": {
        "id": "JWRbbiYPLHi3"
      },
      "outputs": [
        {
          "name": "stdout",
          "output_type": "stream",
          "text": [
            "[0, 3, 5, 6]\n",
            "[5, 0, 2, 3]\n",
            "[3, 6, 0, 1]\n",
            "[2, 5, 7, 0]\n"
          ]
        }
      ],
      "source": [
        "inf = float('inf')\n",
        "matrix = [[0, 3, inf, 7],\n",
        "          [8, 0, 2, inf],\n",
        "          [5, inf, 0, 1],\n",
        "          [2, inf, inf, 0]]\n",
        "\n",
        "solution = Floyd_Warshall(matrix, len(matrix))\n",
        "for row in solution:\n",
        "  print(row)"
      ]
    }
  ],
  "metadata": {
    "colab": {
      "provenance": []
    },
    "kernelspec": {
      "display_name": "Python 3",
      "name": "python3"
    },
    "language_info": {
      "codemirror_mode": {
        "name": "ipython",
        "version": 3
      },
      "file_extension": ".py",
      "mimetype": "text/x-python",
      "name": "python",
      "nbconvert_exporter": "python",
      "pygments_lexer": "ipython3",
      "version": "3.11.6"
    }
  },
  "nbformat": 4,
  "nbformat_minor": 0
}
