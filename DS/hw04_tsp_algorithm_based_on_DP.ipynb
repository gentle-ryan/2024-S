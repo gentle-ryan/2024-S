{
 "cells": [
  {
   "cell_type": "code",
   "execution_count": 12,
   "metadata": {},
   "outputs": [],
   "source": [
    "# import module to get all subsets\n",
    "from itertools import combinations\n",
    "\n",
    "def tsp(d, n):\n",
    "    # Memoization table to store the minimum cost to reach each node with a given set of visited nodes\n",
    "    g = {}\n",
    "\n",
    "    # Starting at node 0 with only node 0 visited\n",
    "    g[(0, (0,))] = 0\n",
    "\n",
    "    # Iterate over subset sizes from 1 to n-1\n",
    "    for size in range(1, n):\n",
    "        # Generate all subsets of size 'size' containing nodes from 1 to n-1\n",
    "        for subset in combinations(range(1, n), size):\n",
    "            # Iterate over each node in the subset, considering it as the last node in the subset\n",
    "            for last in subset:\n",
    "                # Create a tuple representing the visited nodes including node 0\n",
    "                visited = (0,) + subset\n",
    "                # Initialize the minimum cost to reach the 'last' node in this subset as infinity\n",
    "                g[(last, visited)] = float('inf')\n",
    "                # Create a tuple of previously visited nodes by removing the 'last' node\n",
    "                prev_visited = tuple(v for v in visited if v != last)\n",
    "                # Iterate over each node 'u' in the previously visited nodes\n",
    "                for u in prev_visited:\n",
    "                    # Check if the cost to reach 'u' with the previously visited nodes is already computed\n",
    "                    if (u, prev_visited) in g:\n",
    "                        # Update the minimum cost to reach 'last' with the current subset of visited nodes\n",
    "                        g[(last, visited)] = min(g[(last, visited)], d[u][last] + g[(u, prev_visited)])\n",
    "\n",
    "    # Create a tuple representing all nodes visited starting from node 0\n",
    "    visited = tuple(range(n))\n",
    "    # Find the minimum tour cost by considering returning to the starting node (0)\n",
    "    min_tour_cost = min(g[(i, visited)] + d[i][0] for i in range(1, n) if (i, visited) in g)\n",
    "\n",
    "    return min_tour_cost\n"
   ]
  },
  {
   "cell_type": "code",
   "execution_count": 13,
   "metadata": {},
   "outputs": [
    {
     "name": "stdout",
     "output_type": "stream",
     "text": [
      "Minimum tour cost: 35\n"
     ]
    }
   ],
   "source": [
    "# adjacency matrix\n",
    "d = [\n",
    "    [0, 10, 15, 20],\n",
    "    [5, 0, 9, 10],\n",
    "    [6, 13, 0, 12],\n",
    "    [8, 8, 9, 0]\n",
    "]\n",
    "\n",
    "minimum_cost = tsp(d, len(d))\n",
    "print(\"Minimum tour cost:\", minimum_cost)\n"
   ]
  }
 ],
 "metadata": {
  "kernelspec": {
   "display_name": "Python 3",
   "language": "python",
   "name": "python3"
  },
  "language_info": {
   "codemirror_mode": {
    "name": "ipython",
    "version": 3
   },
   "file_extension": ".py",
   "mimetype": "text/x-python",
   "name": "python",
   "nbconvert_exporter": "python",
   "pygments_lexer": "ipython3",
   "version": "3.11.6"
  }
 },
 "nbformat": 4,
 "nbformat_minor": 2
}
