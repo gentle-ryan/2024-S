{
 "cells": [
  {
   "cell_type": "markdown",
   "metadata": {},
   "source": [
    "# HW01 Gradient Descent Algorithm\n",
    "Name : Park Yuna"
   ]
  },
  {
   "cell_type": "code",
   "execution_count": 3,
   "metadata": {},
   "outputs": [],
   "source": [
    "# import the library\n",
    "import matplotlib.pyplot as plt\n",
    "import numpy as np"
   ]
  },
  {
   "cell_type": "code",
   "execution_count": 17,
   "metadata": {},
   "outputs": [],
   "source": [
    "# Setting the objective fucntion\n",
    "x = np.arange(-4, 3, 0.01)\n",
    "\n",
    "def f(x):\n",
    "    y = x**4 + x**3 - 6*x**2 + 4*x + 12\n",
    "    return y"
   ]
  },
  {
   "cell_type": "markdown",
   "metadata": {},
   "source": [
    "## Create a plot showing the objective function within −4 ≤ x ≤ 3"
   ]
  },
  {
   "cell_type": "code",
   "execution_count": 19,
   "metadata": {},
   "outputs": [
    {
     "data": {
      "text/plain": [
       "[<matplotlib.lines.Line2D at 0x2552c5168d0>]"
      ]
     },
     "execution_count": 19,
     "metadata": {},
     "output_type": "execute_result"
    },
    {
     "data": {
      "image/png": "[encoded data removed]",
      "text/plain": [
       "<Figure size 640x480 with 1 Axes>"
      ]
     },
     "metadata": {},
     "output_type": "display_data"
    }
   ],
   "source": [
    "plt.plot(x, f(x))"
   ]
  },
  {
   "cell_type": "markdown",
   "metadata": {},
   "source": [
    "## Explain how you design your own gradient descent algorithm from scratch\n"
   ]
  },
  {
   "cell_type": "markdown",
   "metadata": {},
   "source": [
    "![image](hw01.jpg)"
   ]
  },
  {
   "cell_type": "markdown",
   "metadata": {},
   "source": [
    "## Discuss with your teammates and answer the following question:"
   ]
  },
  {
   "cell_type": "markdown",
   "metadata": {},
   "source": [
    "### 1"
   ]
  },
  {
   "cell_type": "code",
   "execution_count": 33,
   "metadata": {},
   "outputs": [],
   "source": [
    "def Derivative(x, f):\n",
    "    h = 1e-5\n",
    "    y_prime = (f(x+h) - f(x)) / h\n",
    "    return y_prime"
   ]
  },
  {
   "cell_type": "markdown",
   "metadata": {},
   "source": [
    "Reference : https://glorychoi.tistory.com/entry/%ED%8C%8C%EC%9D%B4%EC%8D%AC-%EB%94%A5%EB%9F%AC%EB%8B%9D-%EC%88%98%EC%B9%98-%EB%AF%B8%EB%B6%84 "
   ]
  },
  {
   "cell_type": "code",
   "execution_count": 42,
   "metadata": {},
   "outputs": [],
   "source": [
    "def GradientDescent(f, stepsize, initial, maxiter):\n",
    "    x0 = initial\n",
    "    epsilon = 1e-5\n",
    "    for iter in range(maxiter):\n",
    "        x = x0 - stepsize*Derivative(x0, f)\n",
    "        x0 = x\n",
    "    return x, f(x)"
   ]
  },
  {
   "cell_type": "code",
   "execution_count": 41,
   "metadata": {},
   "outputs": [
    {
     "data": {
      "text/plain": [
       "(1.2756444169200165, 12.062785153383288)"
      ]
     },
     "execution_count": 41,
     "metadata": {},
     "output_type": "execute_result"
    }
   ],
   "source": [
    "GradientDescent(f, 0.01, 2.5, 10)"
   ]
  },
  {
   "cell_type": "markdown",
   "metadata": {},
   "source": [
    "Optimal Solution은 `1.2756444169200165`이고 Optimum value는 `12.062785153383288`\n",
    "위에서 그린 함수 그래프로 보건데 0보다 작은 값이 존재하고 그때의 x값은 -2보다 작으므로 Global optimum은 아닐 것이다. \n",
    "알고리즘이 Global minimum에 가까이 다가가게 하기 위해선  아래의 4가지 방법이 가능하다.\n",
    "1. inital point를 조정한다. \n",
    "2. stepsize를 조정한다. \n",
    "3. 반복수를 늘린다. \n",
    "4. 다른 Stopping criterion을 도입한다. "
   ]
  },
  {
   "cell_type": "code",
   "execution_count": 51,
   "metadata": {},
   "outputs": [],
   "source": [
    "def GradientDescent2(f, stepsize, initial, maxiter):\n",
    "    x0 = initial\n",
    "    epsilon = 1e-5\n",
    "    iter = 0\n",
    "    for i in range(maxiter):\n",
    "        x = x0 - stepsize*Derivative(x0, f)\n",
    "        iter += 1\n",
    "        if abs(x - x0) < epsilon:\n",
    "            break\n",
    "        x0 = x\n",
    "    return x, f(x), iter"
   ]
  },
  {
   "cell_type": "code",
   "execution_count": 52,
   "metadata": {},
   "outputs": [
    {
     "data": {
      "text/plain": [
       "(1.1258636810472211, 11.931881728074773, 79)"
      ]
     },
     "execution_count": 52,
     "metadata": {},
     "output_type": "execute_result"
    }
   ],
   "source": [
    "GradientDescent2(f, 0.01, 2.5, 1000)"
   ]
  },
  {
   "cell_type": "markdown",
   "metadata": {},
   "source": [
    "`GradientDescent2`에서는 3번과 4번의 방법을 도입했다. 반복수를 1000으로 늘리고 x가 수렴하면 멈추게 하는 Stopping Criterion을 도입했다. \n",
    "Optimum Solution은 `1.1258636810472211`이었으면 79번째 반복에서 수렴했다."
   ]
  },
  {
   "cell_type": "markdown",
   "metadata": {},
   "source": [
    "### 2"
   ]
  },
  {
   "cell_type": "code",
   "execution_count": 76,
   "metadata": {},
   "outputs": [
    {
     "data": {
      "text/plain": [
       "(0.299423446370389, 12.694649925046393)"
      ]
     },
     "execution_count": 76,
     "metadata": {},
     "output_type": "execute_result"
    }
   ],
   "source": [
    "GradientDescent(f, 0.01, 0.35, 10)"
   ]
  },
  {
   "cell_type": "markdown",
   "metadata": {},
   "source": [
    "Initial point x = 0.35\n",
    "Step size = 0.01\n",
    "The maximum number of iterations = 10\n",
    "\n",
    "위의 조건 하에서 Optimum Solution은 `0.299423446370389`이다. 해당 값이 Global solution이라고는 볼 수 없을 듯 하나 initial point가 2.5일때에 비하면 Global optimum에 가까이 다가간듯 하다."
   ]
  },
  {
   "cell_type": "markdown",
   "metadata": {},
   "source": [
    "#### Fix the step size and maximum number of iterations and change initial point"
   ]
  },
  {
   "cell_type": "code",
   "execution_count": 78,
   "metadata": {},
   "outputs": [
    {
     "name": "stdout",
     "output_type": "stream",
     "text": [
      "initial point is 0.35 : (0.299423446370389, 12.694649925046393)\n",
      "initial point is 0 : (-0.7171954332632069, 5.940674990524078)\n",
      "initial point is -1 : (-2.179014339630413, -13.006377134481426)\n",
      "initial point is -2 : (-2.2634534403043176, -13.14191759951915)\n",
      "initial point is -3 : (-2.271706025814055, -13.141898933341402)\n"
     ]
    }
   ],
   "source": [
    "# initial point is 0.35 \n",
    "print(f'initial point is 0.35 :', GradientDescent(f, 0.01, 0.35, 10))\n",
    "# initial point is 0\n",
    "print(f'initial point is 0 :', GradientDescent(f, 0.01, 0, 10))\n",
    "# initial point is -1\n",
    "print(f'initial point is -1 :', GradientDescent(f, 0.01, -1, 10))\n",
    "# initial point is -2\n",
    "print(f'initial point is -2 :', GradientDescent(f, 0.01, -2, 10))\n",
    "# initial point is -3\n",
    "print(f'initial point is -3 :', GradientDescent(f, 0.01, -3, 10))"
   ]
  },
  {
   "cell_type": "markdown",
   "metadata": {},
   "source": [
    "initial point를 바꿔가며 optimum solution과 optimimum을 출력한 결과 -2와 -3사이의 -2.2xx에 global minimum이 있을 것으로 추정된다."
   ]
  },
  {
   "cell_type": "markdown",
   "metadata": {},
   "source": [
    "#### Fix the step size and maximum number of iterations and change initial point"
   ]
  },
  {
   "cell_type": "code",
   "execution_count": 80,
   "metadata": {},
   "outputs": [
    {
     "name": "stdout",
     "output_type": "stream",
     "text": [
      "max iter is 100 and step size is 0.1 (1.1257801397723086, 11.931881697465846)\n",
      "max iter is 100 and step size is 0.001 (0.2964849878107131, 12.69230888490869)\n",
      "max iter is 1000 and step size is 0.01 (-2.26752587766928, -13.142215632376107)\n",
      "max iter is 1000 and step size is 0.001 (-2.2675258772433984, -13.142215632376185)\n"
     ]
    }
   ],
   "source": [
    "print(f'max iter is 100 and step size is 0.1', GradientDescent(f, 0.1, 0.35, 100))\n",
    "print(f'max iter is 100 and step size is 0.001', GradientDescent(f, 0.001, 0.35, 100))\n",
    "print(f'max iter is 1000 and step size is 0.01', GradientDescent(f, 0.01, 0.35, 1000))\n",
    "print(f'max iter is 1000 and step size is 0.001', GradientDescent(f, 0.001, 0.35, 1000))\n"
   ]
  },
  {
   "cell_type": "markdown",
   "metadata": {},
   "source": [
    "반복수를 1000으로 늘렸을 때, global minimum에 도달하는 듯 하다. 반복수가 100일 때 step size에 따른 차이가 나타나는데 step size가 큰 경우에서는 initial point가 2.5일 때와 같이 local minimum으로 수렴하는 듯 하다. 반면 stepsize가 작은 경우에는 global minimum으로 방향을 잘 찾은 듯하다."
   ]
  },
  {
   "cell_type": "markdown",
   "metadata": {},
   "source": [
    "#### Which option would like to choose? What is the reason why you end up choosing the option?"
   ]
  },
  {
   "cell_type": "markdown",
   "metadata": {},
   "source": [
    "함수에 대한 정보를 어느정도로 알고 있느냐와 pre-determined range에 따라 얼마나 많은 연산이 필요하냐를 기준으로 다른 방식을 고를 것 같다. \n",
    "그렇지만 많은 경우에 initial point를 조정하는 방법을 택할 것이다. initial point를 잘 못 잡으면 iter를 높이더라도 global minimum을 구하지 못하고 local minimum 값만을 구할 것이기 때문이다. "
   ]
  }
 ],
 "metadata": {
  "kernelspec": {
   "display_name": "Python 3",
   "language": "python",
   "name": "python3"
  },
  "language_info": {
   "codemirror_mode": {
    "name": "ipython",
    "version": 3
   },
   "file_extension": ".py",
   "mimetype": "text/x-python",
   "name": "python",
   "nbconvert_exporter": "python",
   "pygments_lexer": "ipython3",
   "version": "3.11.6"
  }
 },
 "nbformat": 4,
 "nbformat_minor": 2
}
